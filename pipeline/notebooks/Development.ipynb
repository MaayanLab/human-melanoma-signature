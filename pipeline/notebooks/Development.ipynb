{
 "cells": [
  {
   "cell_type": "code",
   "execution_count": 1,
   "metadata": {},
   "outputs": [
    {
     "name": "stdout",
     "output_type": "stream",
     "text": [
      "/Users/maayanlab/Documents/projects/human-melanoma-signature\n"
     ]
    },
    {
     "name": "stderr",
     "output_type": "stream",
     "text": [
      "/Users/maayanlab/anaconda3/lib/python3.6/site-packages/h5py/__init__.py:36: FutureWarning: Conversion of the second argument of issubdtype from `float` to `np.floating` is deprecated. In future, it will be treated as `np.float64 == np.dtype(float).type`.\n",
      "  from ._conv import register_converters as _register_converters\n"
     ]
    }
   ],
   "source": [
    "%cd /Users/maayanlab/Documents/projects/human-melanoma-signature\n",
    "import sys\n",
    "sys.path.append('pipeline/scripts/')\n",
    "import pandas as pd\n",
    "import h5py\n",
    "import numpy as np\n",
    "import functools, operator, math"
   ]
  },
  {
   "cell_type": "code",
   "execution_count": 2,
   "metadata": {},
   "outputs": [],
   "source": [
    "from Melanoma import *"
   ]
  },
  {
   "cell_type": "markdown",
   "metadata": {},
   "source": [
    "# Code Development for Melanoma Pipeline\n",
    "## Define input and output files"
   ]
  },
  {
   "cell_type": "code",
   "execution_count": null,
   "metadata": {},
   "outputs": [],
   "source": [
    "# Infile & outfile\n",
    "infiles = ['s1-expression_data.dir/melanoma-cpm.txt']\n",
    "outfile = 's1-expression_data.dir/melanoma-IDstatus.txt'"
   ]
  },
  {
   "cell_type": "code",
   "execution_count": 11,
   "metadata": {},
   "outputs": [],
   "source": [
    "# # Infile & outfile\n",
    "# infiles = ['rawdata/human_matrix.h5', 'rawdata/m2.csv']\n",
    "# outfile = 's1-expression_data.dir/melanoma-cpm.txt'"
   ]
  },
  {
   "cell_type": "markdown",
   "metadata": {},
   "source": [
    "### Test Code"
   ]
  },
  {
   "cell_type": "code",
   "execution_count": 45,
   "metadata": {},
   "outputs": [],
   "source": [
    "# Define infiles\n",
    "archs_matrix, metadata_file = infiles\n",
    "# Read infile metadata_file into pandas\n",
    "metadata_df = pd.read_csv(metadata_file)\n",
    "# Extract all gsms from the 'id' column\n",
    "allgsm = metadata_df['id'].values\n",
    "# Save only the unique values by converting the array to a set first, then to a list\n",
    "gsm_unique = list(set(allgsm))\n",
    "# Read expression data\n",
    "expression_dataframe = load_read_counts(archs_matrix, gsms = gsm_unique)\n",
    "# Set index name\n",
    "expression_dataframe.index.name = 'gene'\n",
    "# Perform counts per million normalization\n",
    "cpm_table = compute_CPMs(expression_dataframe)"
   ]
  },
  {
   "cell_type": "code",
   "execution_count": null,
   "metadata": {},
   "outputs": [],
   "source": [
    "matches = {} # create a dictionary called matches\n",
    "for std_i, row in meladata.set_index('study_index').iterrows(): # std_i is the key of the dictionary, index of the dataframe\n",
    "    ctrl_gsms = row['ctrl_id'].split(' ')\n",
    "    pert_gsms = row['perturb_id'].split(' ')\n",
    "    match = np.zeros(cpm_table.shape[1], dtype=np.int32) # Return a new array of given shape and type, filled with zeros.\n",
    "    match[np.in1d(cpm_table.columns, ctrl_gsms)] = 1\n",
    "    match[np.in1d(cpm_table.columns, pert_gsms)] = 2\n",
    "    matches[std_i] = match\n",
    "print (matches)"
   ]
  }
 ],
 "metadata": {
  "kernelspec": {
   "display_name": "Python 3",
   "language": "python",
   "name": "python3"
  },
  "language_info": {
   "codemirror_mode": {
    "name": "ipython",
    "version": 3
   },
   "file_extension": ".py",
   "mimetype": "text/x-python",
   "name": "python",
   "nbconvert_exporter": "python",
   "pygments_lexer": "ipython3",
   "version": "3.6.5"
  }
 },
 "nbformat": 4,
 "nbformat_minor": 2
}
