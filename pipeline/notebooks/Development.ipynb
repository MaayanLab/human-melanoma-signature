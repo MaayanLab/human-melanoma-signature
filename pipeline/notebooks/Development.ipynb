{
 "cells": [
  {
   "cell_type": "code",
   "execution_count": 1,
   "metadata": {},
   "outputs": [
    {
     "name": "stdout",
     "output_type": "stream",
     "text": [
      "/Users/maayanlab/Documents/projects/human-melanoma-signature\n"
     ]
    },
    {
     "name": "stderr",
     "output_type": "stream",
     "text": [
      "/Users/maayanlab/anaconda3/lib/python3.6/site-packages/h5py/__init__.py:36: FutureWarning: Conversion of the second argument of issubdtype from `float` to `np.floating` is deprecated. In future, it will be treated as `np.float64 == np.dtype(float).type`.\n",
      "  from ._conv import register_converters as _register_converters\n"
     ]
    }
   ],
   "source": [
    "%cd /Users/maayanlab/Documents/projects/human-melanoma-signature\n",
    "import sys\n",
    "sys.path.append('pipeline/scripts/')\n",
    "import pandas as pd\n",
    "import h5py\n",
    "import numpy as np\n",
    "import json, operator, math, requests\n",
    "from geode_jupies import *\n",
    "import sklearn.metrics.pairwise as smp\n",
    "from scipy.spatial.distance import cosine\n",
    "import seaborn as sns; sns.set(color_codes=True)\n",
    "import RNAseq as RNA\n",
    "from collections import Counter\n",
    "import time\n",
    "from IPython.display import IFrame\n",
    "from IPython.display import HTML, display"
   ]
  },
  {
   "cell_type": "code",
   "execution_count": 2,
   "metadata": {},
   "outputs": [
    {
     "data": {
      "text/plain": [
       "'/Users/maayanlab/Documents/projects/human-melanoma-signature'"
      ]
     },
     "execution_count": 2,
     "metadata": {},
     "output_type": "execute_result"
    }
   ],
   "source": [
    "%pwd"
   ]
  },
  {
   "cell_type": "code",
   "execution_count": 3,
   "metadata": {},
   "outputs": [],
   "source": [
    "from Melanoma import *"
   ]
  },
  {
   "cell_type": "markdown",
   "metadata": {},
   "source": [
    "# Code Development for Melanoma Pipeline\n",
    "## Define input and output files"
   ]
  },
  {
   "cell_type": "code",
   "execution_count": null,
   "metadata": {},
   "outputs": [],
   "source": [
    "# infiles S4.4\n",
    "#infile = 's4-enrichment.dir/melanoma-enrichr-results.txt'\n",
    "#infile2 = 's4-enrichment.dir/enrichr-results-top.txt'"
   ]
  },
  {
   "cell_type": "code",
   "execution_count": null,
   "metadata": {},
   "outputs": [],
   "source": [
    "# infiles\n",
    "# infile1 = 's2-signatures.dir/melanoma-intersection-2000.txt'\n",
    "# infile2 = 's2-signatures.dir/melanoma-intersection-3000.txt'\n",
    "# infile3 = 's2-signatures.dir/melanoma-intersection-5000.txt'"
   ]
  },
  {
   "cell_type": "code",
   "execution_count": null,
   "metadata": {},
   "outputs": [],
   "source": [
    "# infiles\n",
    "# infile='s2-signatures.dir/melanoma-geneset-top.json'"
   ]
  },
  {
   "cell_type": "code",
   "execution_count": 11,
   "metadata": {},
   "outputs": [],
   "source": [
    "# infiles S2.2\n",
    "sig = 's2-signatures.dir/melanoma-signatures.txt'\n",
    "upreg_080 = 's2-signatures.dir/melanoma-signatures-0.8+top250.txt'\n",
    "upreg_090 = 's2-signatures.dir/melanoma-signatures-0.9+top250.txt'\n",
    "upreg_070 = 's2-signatures.dir/melanoma-signatures-0.7+top250.txt'\n",
    "downreg_080 = 's2-signatures.dir/melanoma-signatures-0.8-bottom250.txt'\n",
    "downreg_090 = 's2-signatures.dir/melanoma-signatures-0.9-bottom250.txt'\n",
    "downreg_070 = 's2-signatures.dir/melanoma-signatures-0.7-bottom250.txt'"
   ]
  },
  {
   "cell_type": "code",
   "execution_count": null,
   "metadata": {},
   "outputs": [],
   "source": [
    "# #infiles\n",
    "# cpm = 's1-expression_data.dir/melanoma-cpm.txt'\n",
    "# matches = 's2-expression_data.dir/melanoma-idmatches.txt'"
   ]
  },
  {
   "cell_type": "code",
   "execution_count": null,
   "metadata": {},
   "outputs": [],
   "source": [
    "# # Infile & outfile\n",
    "# infiles = ['s1-expression_data.dir/melanoma-cpm.txt']\n",
    "# outfile = 's1-expression_data.dir/melanoma-IDstatus.txt'"
   ]
  },
  {
   "cell_type": "code",
   "execution_count": null,
   "metadata": {},
   "outputs": [],
   "source": [
    "# # Infile & outfile\n",
    "# infiles = ['rawdata/human_matrix.h5', 'rawdata/m2.csv']\n",
    "# outfile = 's1-expression_data.dir/melanoma-cpm.txt'"
   ]
  },
  {
   "cell_type": "markdown",
   "metadata": {},
   "source": [
    "### Test Code"
   ]
  },
  {
   "cell_type": "code",
   "execution_count": 5,
   "metadata": {},
   "outputs": [],
   "source": [
    "sig_df=pd.read_table(sig, index_col='gene')"
   ]
  },
  {
   "cell_type": "code",
   "execution_count": 18,
   "metadata": {},
   "outputs": [],
   "source": [
    "sig_df_ranked=sig_df.rank()"
   ]
  },
  {
   "cell_type": "code",
   "execution_count": 19,
   "metadata": {},
   "outputs": [],
   "source": [
    "like=np.zeros_like(sig_df_ranked)\n",
    "like[sig_df_ranked<250]= 1\n",
    "#like[sig_df_ranked>(18992-250)]= 1\n",
    "ls=like.sum(axis=1)#row sums of all 18992 row entries"
   ]
  },
  {
   "cell_type": "code",
   "execution_count": 24,
   "metadata": {},
   "outputs": [],
   "source": [
    "#subset80=sig_df[ls>6].append(sig_df[ls<-6])\n",
    "up.to_csv(upreg_070, sep='\\t')"
   ]
  },
  {
   "cell_type": "code",
   "execution_count": 23,
   "metadata": {},
   "outputs": [],
   "source": [
    "up=sig_df[ls>7.7]"
   ]
  },
  {
   "cell_type": "code",
   "execution_count": 15,
   "metadata": {},
   "outputs": [
    {
     "data": {
      "text/html": [
       "<a href=\"http://amp.pharm.mssm.edu/clustergrammer/viz/5b686df07226c363b844cec1/melanoma-signatures-0.7-bottom250.txt\" target=\"_blank\">http://amp.pharm.mssm.edu/clustergrammer/viz/5b686df07226c363b844cec1/melanoma-signatures-0.7-bottom250.txt</a>"
      ],
      "text/plain": [
       "<IPython.core.display.HTML object>"
      ]
     },
     "metadata": {},
     "output_type": "display_data"
    },
    {
     "data": {
      "text/html": [
       "\n",
       "        <iframe\n",
       "            width=\"1000\"\n",
       "            height=\"1000\"\n",
       "            src=\"http://amp.pharm.mssm.edu/clustergrammer/viz/5b686df07226c363b844cec1/melanoma-signatures-0.7-bottom250.txt\"\n",
       "            frameborder=\"0\"\n",
       "            allowfullscreen\n",
       "        ></iframe>\n",
       "        "
      ],
      "text/plain": [
       "<IPython.lib.display.IFrame at 0x1a1be92a58>"
      ]
     },
     "metadata": {},
     "output_type": "display_data"
    }
   ],
   "source": [
    "from IPython.display import HTML, display\n",
    "# to display hyperlink as <a> tag in output cells\n",
    "def display_link(url):\n",
    "    raw_html = '<a href=\"%s\" target=\"_blank\">%s</a>' % (url, url)\n",
    "    return display(HTML(raw_html))\n",
    "clustergrammer_url = 'http://amp.pharm.mssm.edu/clustergrammer/matrix_upload/'\n",
    "r = requests.post(clustergrammer_url, files={'file': open(downreg_070, 'rb')})\n",
    "link = r.text\n",
    "display_link(link)\n",
    "display(IFrame(link, width=\"1000\", height=\"1000\"))"
   ]
  },
  {
   "cell_type": "code",
   "execution_count": 16,
   "metadata": {},
   "outputs": [
    {
     "data": {
      "text/html": [
       "<a href=\"http://amp.pharm.mssm.edu/clustergrammer/viz/5b686dfb7226c363b844cec6/melanoma-signatures-0.8-bottom250.txt\" target=\"_blank\">http://amp.pharm.mssm.edu/clustergrammer/viz/5b686dfb7226c363b844cec6/melanoma-signatures-0.8-bottom250.txt</a>"
      ],
      "text/plain": [
       "<IPython.core.display.HTML object>"
      ]
     },
     "metadata": {},
     "output_type": "display_data"
    },
    {
     "data": {
      "text/html": [
       "\n",
       "        <iframe\n",
       "            width=\"1000\"\n",
       "            height=\"1000\"\n",
       "            src=\"http://amp.pharm.mssm.edu/clustergrammer/viz/5b686dfb7226c363b844cec6/melanoma-signatures-0.8-bottom250.txt\"\n",
       "            frameborder=\"0\"\n",
       "            allowfullscreen\n",
       "        ></iframe>\n",
       "        "
      ],
      "text/plain": [
       "<IPython.lib.display.IFrame at 0x111e0b5c0>"
      ]
     },
     "metadata": {},
     "output_type": "display_data"
    }
   ],
   "source": [
    "r = requests.post(clustergrammer_url, files={'file': open(downreg_080, 'rb')})\n",
    "link = r.text\n",
    "display_link(link)\n",
    "display(IFrame(link, width=\"1000\", height=\"1000\"))"
   ]
  },
  {
   "cell_type": "code",
   "execution_count": 17,
   "metadata": {},
   "outputs": [
    {
     "data": {
      "text/html": [
       "<a href=\"http://amp.pharm.mssm.edu/clustergrammer/viz/5b686e0d7226c363b844cecb/melanoma-signatures-0.9-bottom250.txt\" target=\"_blank\">http://amp.pharm.mssm.edu/clustergrammer/viz/5b686e0d7226c363b844cecb/melanoma-signatures-0.9-bottom250.txt</a>"
      ],
      "text/plain": [
       "<IPython.core.display.HTML object>"
      ]
     },
     "metadata": {},
     "output_type": "display_data"
    },
    {
     "data": {
      "text/html": [
       "\n",
       "        <iframe\n",
       "            width=\"1000\"\n",
       "            height=\"1000\"\n",
       "            src=\"http://amp.pharm.mssm.edu/clustergrammer/viz/5b686e0d7226c363b844cecb/melanoma-signatures-0.9-bottom250.txt\"\n",
       "            frameborder=\"0\"\n",
       "            allowfullscreen\n",
       "        ></iframe>\n",
       "        "
      ],
      "text/plain": [
       "<IPython.lib.display.IFrame at 0x1a1be92470>"
      ]
     },
     "metadata": {},
     "output_type": "display_data"
    }
   ],
   "source": [
    "r = requests.post(clustergrammer_url, files={'file': open(downreg_090, 'rb')})\n",
    "link = r.text\n",
    "display_link(link)\n",
    "display(IFrame(link, width=\"1000\", height=\"1000\"))"
   ]
  },
  {
   "cell_type": "code",
   "execution_count": 25,
   "metadata": {},
   "outputs": [
    {
     "data": {
      "text/html": [
       "<a href=\"http://amp.pharm.mssm.edu/clustergrammer/viz/5b686e977226c363b844ced1/melanoma-signatures-0.7+top250.txt\" target=\"_blank\">http://amp.pharm.mssm.edu/clustergrammer/viz/5b686e977226c363b844ced1/melanoma-signatures-0.7+top250.txt</a>"
      ],
      "text/plain": [
       "<IPython.core.display.HTML object>"
      ]
     },
     "metadata": {},
     "output_type": "display_data"
    },
    {
     "data": {
      "text/html": [
       "\n",
       "        <iframe\n",
       "            width=\"1000\"\n",
       "            height=\"1000\"\n",
       "            src=\"http://amp.pharm.mssm.edu/clustergrammer/viz/5b686e977226c363b844ced1/melanoma-signatures-0.7+top250.txt\"\n",
       "            frameborder=\"0\"\n",
       "            allowfullscreen\n",
       "        ></iframe>\n",
       "        "
      ],
      "text/plain": [
       "<IPython.lib.display.IFrame at 0x1a1be926d8>"
      ]
     },
     "metadata": {},
     "output_type": "display_data"
    }
   ],
   "source": [
    "r = requests.post(clustergrammer_url, files={'file': open(upreg_070, 'rb')})\n",
    "link = r.text\n",
    "display_link(link)\n",
    "display(IFrame(link, width=\"1000\", height=\"1000\"))"
   ]
  },
  {
   "cell_type": "code",
   "execution_count": 26,
   "metadata": {},
   "outputs": [
    {
     "data": {
      "text/html": [
       "<a href=\"http://amp.pharm.mssm.edu/clustergrammer/viz/5b686e9e7226c363b844ced6/melanoma-signatures-0.8+top250.txt\" target=\"_blank\">http://amp.pharm.mssm.edu/clustergrammer/viz/5b686e9e7226c363b844ced6/melanoma-signatures-0.8+top250.txt</a>"
      ],
      "text/plain": [
       "<IPython.core.display.HTML object>"
      ]
     },
     "metadata": {},
     "output_type": "display_data"
    },
    {
     "data": {
      "text/html": [
       "\n",
       "        <iframe\n",
       "            width=\"1000\"\n",
       "            height=\"1000\"\n",
       "            src=\"http://amp.pharm.mssm.edu/clustergrammer/viz/5b686e9e7226c363b844ced6/melanoma-signatures-0.8+top250.txt\"\n",
       "            frameborder=\"0\"\n",
       "            allowfullscreen\n",
       "        ></iframe>\n",
       "        "
      ],
      "text/plain": [
       "<IPython.lib.display.IFrame at 0x1a1b6b0240>"
      ]
     },
     "metadata": {},
     "output_type": "display_data"
    }
   ],
   "source": [
    "r = requests.post(clustergrammer_url, files={'file': open(upreg_080, 'rb')})\n",
    "link = r.text\n",
    "display_link(link)\n",
    "display(IFrame(link, width=\"1000\", height=\"1000\"))"
   ]
  },
  {
   "cell_type": "code",
   "execution_count": 27,
   "metadata": {},
   "outputs": [
    {
     "data": {
      "text/html": [
       "<a href=\"http://amp.pharm.mssm.edu/clustergrammer/viz/5b686ea37226c363b844cedb/melanoma-signatures-0.9+top250.txt\" target=\"_blank\">http://amp.pharm.mssm.edu/clustergrammer/viz/5b686ea37226c363b844cedb/melanoma-signatures-0.9+top250.txt</a>"
      ],
      "text/plain": [
       "<IPython.core.display.HTML object>"
      ]
     },
     "metadata": {},
     "output_type": "display_data"
    },
    {
     "data": {
      "text/html": [
       "\n",
       "        <iframe\n",
       "            width=\"1000\"\n",
       "            height=\"1000\"\n",
       "            src=\"http://amp.pharm.mssm.edu/clustergrammer/viz/5b686ea37226c363b844cedb/melanoma-signatures-0.9+top250.txt\"\n",
       "            frameborder=\"0\"\n",
       "            allowfullscreen\n",
       "        ></iframe>\n",
       "        "
      ],
      "text/plain": [
       "<IPython.lib.display.IFrame at 0x1a1be5da58>"
      ]
     },
     "metadata": {},
     "output_type": "display_data"
    }
   ],
   "source": [
    "r = requests.post(clustergrammer_url, files={'file': open(upreg_090, 'rb')})\n",
    "link = r.text\n",
    "display_link(link)\n",
    "display(IFrame(link, width=\"1000\", height=\"1000\"))"
   ]
  },
  {
   "cell_type": "code",
   "execution_count": null,
   "metadata": {},
   "outputs": [],
   "source": []
  },
  {
   "cell_type": "code",
   "execution_count": null,
   "metadata": {},
   "outputs": [],
   "source": []
  },
  {
   "cell_type": "code",
   "execution_count": null,
   "metadata": {},
   "outputs": [],
   "source": []
  },
  {
   "cell_type": "code",
   "execution_count": null,
   "metadata": {},
   "outputs": [],
   "source": []
  },
  {
   "cell_type": "code",
   "execution_count": null,
   "metadata": {},
   "outputs": [],
   "source": []
  },
  {
   "cell_type": "code",
   "execution_count": null,
   "metadata": {},
   "outputs": [],
   "source": [
    "c = Counter()\n",
    "for i in [enr_res[signature]['top'] for signature in enr_res.keys()]:\n",
    "    c.update(i['term_name'].iloc[:5])"
   ]
  },
  {
   "cell_type": "code",
   "execution_count": null,
   "metadata": {},
   "outputs": [],
   "source": [
    "c.most_common()"
   ]
  },
  {
   "cell_type": "code",
   "execution_count": null,
   "metadata": {},
   "outputs": [],
   "source": [
    "c = Counter()\n",
    "for i in [results[signature]['top'] for signature in results.keys()]\n",
    "for i in [results['1']['top']]: \n",
    "    c.update(i['Term name'].iloc[:5])\n",
    "[results[signature]['top'] for signature in results.keys()]"
   ]
  },
  {
   "cell_type": "code",
   "execution_count": null,
   "metadata": {},
   "outputs": [],
   "source": [
    "# Create a 3rd dictionary \n",
    "from collections import defaultdict\n",
    "results = defaultdict(dict)\n",
    "# Iterate through dictionary, create gene lists and save as 'genes'\n",
    "for signature in dict_top_genes:\n",
    "    for direction in ('top', 'bottom'):\n",
    "        genes = dict_top_genes[signature][direction] # value = dict [1st key] [2nd key]\n",
    "        results[signature][direction] = enrichr_result_to_df(genes,'','GO_Biological_Process_2018')\n",
    "        #for signature in list(dict_top_genes.keys())[0]:\n",
    "\n",
    "# freeze default dict for readonly1\n",
    "results.default_factory = None"
   ]
  },
  {
   "cell_type": "code",
   "execution_count": null,
   "metadata": {},
   "outputs": [],
   "source": [
    "# Number of studies to be processed\n",
    "n = len(study_names)\n",
    "i = 0\n",
    "for study in study_names[:]:\n",
    "    \n",
    "df_1_top=pd.DataFrame(results['1']['top'])"
   ]
  },
  {
   "cell_type": "code",
   "execution_count": null,
   "metadata": {},
   "outputs": [],
   "source": [
    "# if creating a list instead of dictionary\n",
    "test = []\n",
    "for signature in dict_top_genes:\n",
    "    for direction in ('top', 'bottom'):\n",
    "        genes = dict_top_genes[signature][direction] # value = dict [1st key] [2nd key]\n",
    "        genes_df = pd.DataFrame(enrichr_result_to_df(genes,'','GO_Biological_Process_2018'))\n",
    "        #specify names of each geneset (which study and top/bottom they are from)\n",
    "        test.append([signature, direction, genes_df])"
   ]
  },
  {
   "cell_type": "code",
   "execution_count": null,
   "metadata": {},
   "outputs": [],
   "source": [
    "for study, d1 in D.items():\n",
    "    for top, v in d1.items():\n",
    "wanted_keys = dict_df.columns.get_values().tolist() # The keys you want\n",
    "dict((k, results[k]) for k in wanted_keys if k in results)    "
   ]
  },
  {
   "cell_type": "code",
   "execution_count": null,
   "metadata": {},
   "outputs": [],
   "source": []
  }
 ],
 "metadata": {
  "kernelspec": {
   "display_name": "Python 3",
   "language": "python",
   "name": "python3"
  },
  "language_info": {
   "codemirror_mode": {
    "name": "ipython",
    "version": 3
   },
   "file_extension": ".py",
   "mimetype": "text/x-python",
   "name": "python",
   "nbconvert_exporter": "python",
   "pygments_lexer": "ipython3",
   "version": "3.6.5"
  }
 },
 "nbformat": 4,
 "nbformat_minor": 2
}
